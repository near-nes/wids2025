{
 "cells": [
  {
   "cell_type": "markdown",
   "id": "a8d5af2a",
   "metadata": {},
   "source": [
    "# Generate paper figures\n",
    "\n",
    "Run this notebook to reproduce all the figures presented in the paper"
   ]
  },
  {
   "cell_type": "markdown",
   "id": "b9b96754",
   "metadata": {},
   "source": [
    "### Libray imports and data loading"
   ]
  },
  {
   "cell_type": "code",
   "execution_count": null,
   "id": "fa4214d9",
   "metadata": {},
   "outputs": [],
   "source": [
    "# Import \n",
    "%matplotlib inline\n",
    "\n",
    "import pandas as pd\n",
    "import matplotlib.pyplot as plt\n",
    "import seaborn as sns\n",
    "\n",
    "\n",
    "#  Only sociodemograph data\n",
    "sociodemograph_SVC_sex = './results_paper/sociodemograph_SVC_sex.csv'\n",
    "sociodemograph_SVC_ADHD = './results_paper/sociodemograph_SVC_adhd.csv'\n",
    "sociodemograph_RF_sex = './results_paper/sociodemograph_RF_sex.csv'\n",
    "sociodemograph_RF_ADHD = './results_paper/sociodemograph_RF_adhd.csv'\n",
    "sociodemograph_XGB_sex = './results_paper/sociodemograph_XGB_sex.csv'\n",
    "sociodemograph_XGB_ADHD = './results_paper/sociodemograph_XGB_adhd.csv'\n",
    "\n",
    "df_soc_SVC_sex = pd.read_csv(sociodemograph_SVC_sex)\n",
    "df_soc_SVC_ADHD = pd.read_csv(sociodemograph_SVC_ADHD)\n",
    "df_soc_RF_sex = pd.read_csv(sociodemograph_RF_sex)\n",
    "df_soc_RF_ADHD = pd.read_csv(sociodemograph_RF_ADHD)\n",
    "df_soc_XGB_sex = pd.read_csv(sociodemograph_XGB_sex)\n",
    "df_soc_XGB_ADHD = pd.read_csv(sociodemograph_XGB_ADHD)\n",
    "\n",
    "# sociodemograph + connectivity data\n",
    "sociodemograph_conn_SVC_sex = './results_paper/sociodemograph_conn_SVC_sex.csv'\n",
    "sociodemograph_conn_SVC_ADHD = './results_paper/sociodemograph_conn_SVC_adhd.csv'\n",
    "sociodemograph_conn_RF_sex = './results_paper/sociodemograph_conn_RF_sex.csv'\n",
    "sociodemograph_conn_RF_ADHD = './results_paper/sociodemograph_conn_RF_adhd.csv'\n",
    "sociodemograph_conn_XGB_sex = './results_paper/sociodemograph_conn_XGB_sex.csv'\n",
    "sociodemograph_conn_XGB_ADHD = './results_paper/sociodemograph_conn_XGB_adhd.csv'\n",
    "\n",
    "df_soc_conn_SVC_sex = pd.read_csv(sociodemograph_conn_SVC_sex)\n",
    "df_soc_conn_SVC_ADHD = pd.read_csv(sociodemograph_conn_SVC_ADHD)\n",
    "df_soc_conn_RF_sex = pd.read_csv(sociodemograph_conn_RF_sex)\n",
    "df_soc_conn_RF_ADHD = pd.read_csv(sociodemograph_conn_RF_ADHD)\n",
    "df_soc_conn_XGB_sex = pd.read_csv(sociodemograph_conn_XGB_sex)\n",
    "df_soc_conn_XGB_ADHD = pd.read_csv(sociodemograph_conn_XGB_ADHD)\n",
    "\n",
    "# single-output and manual feature selection\n",
    "#file 4_3_SVC_sex <- conn_manual_single_SVC_sex.csv\n",
    "#[...]\n",
    "#file 4_3_SVC_ADHD <- sociodemograph_manual_single_SVC_adhd.csv\n",
    "\n",
    "conn_manual_single_SVC_sex = './results_paper/conn_manual_single_SVC_sex.csv'\n",
    "conn_manual_single_RF_sex = './results_paper/conn_manual_single_RF_sex.csv'\n",
    "conn_manual_single_XGB_sex = './results_paper/conn_manual_single_XGB_sex.csv'\n",
    "sociodemograph_manual_single_SVC_ADHD = './results_paper/sociodemograph_manual_single_SVC_adhd.csv'\n",
    "sociodemograph_manual_single_RF_ADHD = './results_paper/sociodemograph_manual_single_RF_adhd.csv'\n",
    "sociodemograph_manual_single_XGB_ADHD = './results_paper/sociodemograph_manual_single_XGB_adhd.csv'\n",
    "\n",
    "df_conn_manual_single_SVC_sex = pd.read_csv(conn_manual_single_SVC_sex)\n",
    "df_conn_manual_single_RF_sex = pd.read_csv(conn_manual_single_RF_sex)\n",
    "df_conn_manual_single_XGB_sex = pd.read_csv(conn_manual_single_XGB_sex)\n",
    "df_soc_manual_single_SVC_ADHD = pd.read_csv(sociodemograph_manual_single_SVC_ADHD)\n",
    "df_soc_manual_single_RF_ADHD = pd.read_csv(sociodemograph_manual_single_RF_ADHD)\n",
    "df_soc_manual_single_XGB_ADHD = pd.read_csv(sociodemograph_manual_single_XGB_ADHD)\n",
    "\n",
    "\n",
    "# single-output and manual+automatic feature selection\n",
    "#file 4_4_SVC_sex_mista <- conn_mixed_single_SVC_sex.csv\n",
    "#file 4_4_RF_ADHD_mista <- sociodemograph_mixed_single_RF_adhd.csv\n",
    "\n",
    "conn_mixed_single_SVC_sex = './results_paper/conn_mixed_single_SVC_sex.csv'\n",
    "sociodemograph_mixed_single_RF_ADHD = './results_paper/sociodemograph_mixed_single_RF_adhd.csv'\n",
    "\n",
    "df_conn_mixed_single_SVC_sex = pd.read_csv(conn_mixed_single_SVC_sex)\n",
    "df_soc_mixed_single_RF_ADHD = pd.read_csv(sociodemograph_mixed_single_RF_ADHD)"
   ]
  },
  {
   "cell_type": "markdown",
   "id": "315fd5e5",
   "metadata": {},
   "source": [
    "### Figure 2\n",
    "\n",
    "F1 score comparison of SVC, Random Forest, and XGBoost classification algorithms. Models were implemented using a multi-output classifier, leveraging only sociodemographic data to predict sex (orange) and ADHD (blue) targets."
   ]
  },
  {
   "cell_type": "code",
   "execution_count": null,
   "id": "36f4c029",
   "metadata": {
    "papermill": {
     "duration": 2.15423,
     "end_time": "2025-07-22T15:08:21.357811",
     "exception": false,
     "start_time": "2025-07-22T15:08:19.203581",
     "status": "completed"
    },
    "tags": []
   },
   "outputs": [
    {
     "ename": "",
     "evalue": "",
     "output_type": "error",
     "traceback": [
      "\u001b[1;31mRunning cells with '.venv (3.13.2) (Python 3.13.2)' requires the ipykernel package.\n",
      "\u001b[1;31m<a href='command:jupyter.createPythonEnvAndSelectController'>Create a Python Environment</a> with the required packages."
     ]
    }
   ],
   "source": [
    "# Sex\n",
    "fig, axes = plt.subplots(1, 3, figsize=(6, 6), share_y=True) \n",
    "sns.boxplot(y='F1_sex_score', data=df_soc_SVC_sex, color='orange', ax=axes[0])\n",
    "sns.stripplot(y='F1_sex_score', data=df_soc_SVC_sex, color='black', jitter=True, alpha=0.7, size=8, ax=axes[0])\n",
    "axes[0].set_ylabel('F1 score [adim]', fontsize=14)\n",
    "axes[0].set_xlabel('SVC', fontsize=14)\n",
    "axes[0].grid(axis='y', linestyle='--', alpha=0.7)\n",
    "axes[0].tick_params(axis='x', labelsize=12)\n",
    "axes[0].tick_params(axis='y', labelsize=12)\n",
    "\n",
    "sns.boxplot(y='F1_sex_score', data=df_soc_RF_sex, color='orange', ax=axes[1])\n",
    "sns.stripplot(y='F1_sex_score', data=df_soc_RF_sex, color='black', jitter=True, alpha=0.7, size=8, ax=axes[1])\n",
    "axes[1].set_xlabel('RF', fontsize=14)\n",
    "axes[1].grid(axis='y', linestyle='--', alpha=0.7)\n",
    "axes[1].tick_params(axis='x', labelsize=12)\n",
    "axes[1].tick_params(axis='y', labelsize=12)\n",
    "\n",
    "sns.boxplot(y='F1_sex_score', data=df_soc_XGB_sex, color='orange', ax=axes[2])\n",
    "sns.stripplot(y='F1_sex_score', data=df_soc_XGB_sex, color='black', jitter=True, alpha=0.7, size=8, ax=axes[2])\n",
    "axes[2].set_xlabel('XGB', fontsize=14)\n",
    "axes[2].grid(axis='y', linestyle='--', alpha=0.7)\n",
    "axes[2].tick_params(axis='x', labelsize=12)\n",
    "axes[2].tick_params(axis='y', labelsize=12)\n",
    "\n",
    "axes[2].set_ylim(0.0, 0.8)\n",
    "fig.suptitle('Sex', fontsize=16)\n",
    "plt.tight_layout()\n",
    "plt.show()\n",
    "\n",
    "\n",
    "# ADHD\n",
    "fig, axes = plt.subplots(1, 3, figsize=(6, 6), share_y=True) \n",
    "sns.boxplot(y='F1_adhd_score', data=df_soc_SVC_ADHD, ax=axes[0])\n",
    "sns.stripplot(y='F1_adhd_score', data=df_soc_SVC_ADHD, color='black', jitter=True, alpha=0.7, size=8, ax=axes[0]) \n",
    "axes[0].set_ylabel('F1 score [adim]', fontsize=14)\n",
    "axes[0].set_xlabel('SVC', fontsize=14)\n",
    "axes[0].grid(axis='y', linestyle='--', alpha=0.7)\n",
    "axes[0].tick_params(axis='x', labelsize=12)\n",
    "axes[0].tick_params(axis='y', labelsize=12) \n",
    "\n",
    "sns.boxplot(y='F1_adhd_score', data=df_soc_RF_ADHD, ax=axes[1])\n",
    "sns.stripplot(y='F1_adhd_score', data=df_soc_RF_ADHD, color='black', jitter=True, alpha=0.7, size=8, ax=axes[1]) \n",
    "axes[1].set_xlabel('RF', fontsize=14)\n",
    "axes[1].grid(axis='y', linestyle='--', alpha=0.7)\n",
    "axes[1].tick_params(axis='x', labelsize=12)\n",
    "axes[1].tick_params(axis='y', labelsize=12) \n",
    "plt.tight_layout()\n",
    "plt.show()\n",
    "\n",
    "sns.boxplot(y='F1_adhd_score', data=df_soc_XGB_ADHD, ax=axes[2])\n",
    "sns.stripplot(y='F1_adhd_score', data=df_soc_XGB_ADHD, color='black', jitter=True, alpha=0.7, size=8, ax=axes[2]) \n",
    "axes[2].set_xlabel('XGB', fontsize=14)\n",
    "axes[2].grid(axis='y', linestyle='--', alpha=0.7)\n",
    "axes[2].tick_params(axis='x', labelsize=12)\n",
    "axes[2].tick_params(axis='y', labelsize=12) \n",
    "\n",
    "axes[2].set_ylim(0.7, 1.0)\n",
    "fig.suptitle('ADHD', fontsize=16) \n",
    "plt.tight_layout()\n",
    "plt.show()"
   ]
  },
  {
   "cell_type": "markdown",
   "id": "1a27b5c5",
   "metadata": {},
   "source": [
    "### Figure 3\n",
    "\n",
    "F1 score comparison for multi-output models, evaluating the impact of adding the connectome dataset. Sex prediction (orange) is implemented with SVC; ADHD prediction (blue) uses Random Forest"
   ]
  },
  {
   "cell_type": "code",
   "execution_count": null,
   "id": "ccf9cecf",
   "metadata": {
    "papermill": {
     "duration": 0.861854,
     "end_time": "2025-07-22T15:08:25.288610",
     "exception": false,
     "start_time": "2025-07-22T15:08:24.426756",
     "status": "completed"
    },
    "tags": []
   },
   "outputs": [],
   "source": [
    "# Sex with SVC\n",
    "fig, axes = plt.subplots(1, 2, figsize=(6, 6), share_y=True)\n",
    "sns.boxplot(y='F1_sex_score', data=df_soc_SVC_sex, color='orange', ax=axes[0])\n",
    "sns.stripplot(y='F1_sex_score', data=df_soc_SVC_sex, color='black', jitter=True, alpha=0.7, size=8, ax=axes[0])\n",
    "axes[0].set_ylabel('F1 score [adim]', fontsize=14)\n",
    "axes[0].set_xlabel('without connectome', fontsize=14)\n",
    "axes[0].grid(axis='y', linestyle='--', alpha=0.7)\n",
    "\n",
    "axes[0].tick_params(axis='x', labelsize=12)\n",
    "axes[0].tick_params(axis='y', labelsize=12)\n",
    "sns.boxplot(y='F1_sex_score', data=df_soc_conn_SVC_sex, color='orange', ax=axes[0])\n",
    "sns.stripplot(y='F1_sex_score', data=df_soc_conn_SVC_sex, color='black', jitter=True, alpha=0.7, size=8, ax=axes[0])\n",
    "axes[1].set_xlabel('with connectome', fontsize=14)\n",
    "axes[1].grid(axis='y', linestyle='--', alpha=0.7)\n",
    "axes[1].tick_params(axis='x', labelsize=12)\n",
    "axes[1].tick_params(axis='y', labelsize=12)\n",
    "\n",
    "axes[1].set_ylim(0.0, 0.8)\n",
    "fig.suptitle('Sex with SVC', fontsize=16)\n",
    "plt.tight_layout()\n",
    "plt.show()\n",
    "\n",
    "\n",
    "# ADHD with RF\n",
    "sns.boxplot(y='F1_adhd_score', data=df_soc_RF_ADHD, ax=axes[0])\n",
    "sns.stripplot(y='F1_adhd_score', data=df_soc_RF_ADHD, color='black', jitter=True, alpha=0.7, size=8, ax=axes[0]) \n",
    "axes[0].set_ylabel('F1 score [adim]', fontsize=14)\n",
    "axes[0].set_xlabel('without connectome', fontsize=14)\n",
    "axes[0].grid(axis='y', linestyle='--', alpha=0.7)\n",
    "axes[0].tick_params(axis='x', labelsize=12)\n",
    "axes[0].tick_params(axis='y', labelsize=12) \n",
    "\n",
    "fig, axes = plt.subplots(1, 2, figsize=(6, 6), share_y=True)\n",
    "sns.boxplot(y='F1_sex_score', data=df_soc_conn_RF_sex, color='orange', ax=axes[1])\n",
    "sns.stripplot(y='F1_sex_score', data=df_soc_conn_RF_sex, color='black', jitter=True, alpha=0.7, size=8, ax=axes[1])\n",
    "axes[1].set_xlabel('with connectome', fontsize=14)\n",
    "axes[1].grid(axis='y', linestyle='--', alpha=0.7)\n",
    "axes[1].tick_params(axis='x', labelsize=12)\n",
    "axes[1].tick_params(axis='y', labelsize=12)\n",
    "\n",
    "axes[1].set_ylim(0.7, 1.0)\n",
    "fig.suptitle('ADHD with RF', fontsize=16)\n",
    "plt.tight_layout()\n",
    "plt.show()"
   ]
  },
  {
   "cell_type": "markdown",
   "id": "daaca058",
   "metadata": {},
   "source": [
    "### Figure 4\n",
    "\n",
    "F1 score comparison of SVC, Random Forest, and XGBoost algorithms for single-output models. Sex prediction (orange) utilizes only connectome data with manual feature selection, while ADHD prediction (blue) uses only sociodemographic data with manual feature selection."
   ]
  },
  {
   "cell_type": "code",
   "execution_count": null,
   "id": "e7a8c01f",
   "metadata": {
    "papermill": {
     "duration": 0.75986,
     "end_time": "2025-07-22T15:08:53.775370",
     "exception": false,
     "start_time": "2025-07-22T15:08:53.015510",
     "status": "completed"
    },
    "tags": []
   },
   "outputs": [],
   "source": [
    "# Sex single-output manual only\n",
    "fig, axes = plt.subplots(1, 3, figsize=(6, 6), share_y=True)\n",
    "sns.boxplot(y='F1_sex_score', data=df_conn_manual_single_SVC_sex, color='orange', ax=axes[0])\n",
    "sns.stripplot(y='F1_sex_score', data=df_conn_manual_single_SVC_sex, color='black', jitter=True, alpha=0.7, size=8, ax=axes[0])\n",
    "axes[0].set_ylabel('F1 score [adim]', fontsize=14)\n",
    "axes[0].set_xlabel('SVC', fontsize=14)\n",
    "axes[0].grid(axis='y', linestyle='--', alpha=0.7)\n",
    "axes[0].tick_params(axis='x', labelsize=12)\n",
    "axes[0].tick_params(axis='y', labelsize=12)\n",
    "\n",
    "sns.boxplot(y='F1_sex_score', data=df_conn_manual_single_RF_sex, color='orange', ax=axes[1])\n",
    "sns.stripplot(y='F1_sex_score', data=df_conn_manual_single_RF_sex, color='black', jitter=True, alpha=0.7, size=8, ax=axes[1])\n",
    "axes[1].set_ylabel('', fontsize=14)\n",
    "axes[1].set_xlabel('RF', fontsize=14)\n",
    "axes[1].grid(axis='y', linestyle='--', alpha=0.7)\n",
    "axes[1].tick_params(axis='x', labelsize=12)\n",
    "axes[1].tick_params(axis='y', labelleft=False)\n",
    "\n",
    "sns.boxplot(y='F1_sex_score', data=df_conn_manual_single_XGB_sex, color='orange', ax=axes[2])\n",
    "sns.stripplot(y='F1_sex_score', data=df_conn_manual_single_XGB_sex, color='black', jitter=True, alpha=0.7, size=8, ax=axes[2])\n",
    "axes[2].set_ylabel('', fontsize=14)\n",
    "axes[2].set_xlabel('XGB', fontsize=14)\n",
    "axes[2].grid(axis='y', linestyle='--', alpha=0.7)\n",
    "axes[2].tick_params(axis='x', labelsize=12)\n",
    "axes[2].tick_params(axis='y', labelleft=False)\n",
    "\n",
    "axes[2].set_ylim(0.0, 0.8)\n",
    "fig.suptitle('Sex', fontsize=16)\n",
    "plt.tight_layout()\n",
    "plt.show()\n",
    "\n",
    "\n",
    "# ADHD single-output manual only\n",
    "fig, axes = plt.subplots(1, 3, figsize=(6, 6), share_y=True)\n",
    "sns.boxplot(y='F1_ADHD_score', data=df_soc_manual_single_SVC_ADHD, ax=axes[0])\n",
    "sns.stripplot(y='F1_ADHD_score', data=df_soc_manual_single_SVC_ADHD, color='black', jitter=True, alpha=0.7, size=8, ax=axes[0])\n",
    "axes[0].set_ylabel('F1 score [adim]', fontsize=14)\n",
    "axes[0].set_xlabel('SVC', fontsize=14)\n",
    "axes[0].grid(axis='y', linestyle='--', alpha=0.7)\n",
    "axes[0].tick_params(axis='x', labelsize=12)\n",
    "axes[0].tick_params(axis='y', labelsize=12)\n",
    "\n",
    "sns.boxplot(y='F1_ADHD_score', data=df_soc_manual_single_RF_ADHD, ax=axes[1])\n",
    "sns.stripplot(y='F1_ADHD_score', data=df_soc_manual_single_RF_ADHD, color='black', jitter=True, alpha=0.7, size=8, ax=axes[1])\n",
    "axes[1].set_ylabel('', fontsize=14)\n",
    "axes[1].set_xlabel('RF', fontsize=14)\n",
    "axes[1].grid(axis='y', linestyle='--', alpha=0.7)\n",
    "axes[1].tick_params(axis='x', labelsize=12)\n",
    "axes[1].tick_params(axis='y', labelleft=False)\n",
    "\n",
    "sns.boxplot(y='F1_ADHD_score', data=df_soc_manual_single_XGB_ADHD, ax=axes[2])\n",
    "sns.stripplot(y='F1_ADHD_score', data=df_soc_manual_single_XGB_ADHD, color='black', jitter=True, alpha=0.7, size=8, ax=axes[2])\n",
    "axes[2].set_ylabel('', fontsize=14)\n",
    "axes[2].set_xlabel('XGB', fontsize=14)\n",
    "axes[2].grid(axis='y', linestyle='--', alpha=0.7)\n",
    "axes[2].tick_params(axis='x', labelsize=12)\n",
    "axes[2].tick_params(axis='y', labelleft=False)\n",
    "\n",
    "axes[2].set_ylim(0.7, 1.0)\n",
    "fig.suptitle('ADHD', fontsize=16)\n",
    "plt.tight_layout()\n",
    "plt.show()"
   ]
  },
  {
   "cell_type": "markdown",
   "id": "2f030006",
   "metadata": {},
   "source": [
    "### Figure 5\n",
    "\n",
    "F1 score comparison for single-output models, evaluating the impact of manual versus manual + automatic feature selection. Sex prediction (orange) with SVC uses only connectome data; ADHD prediction (blue) with Random Forest uses only sociodemographic data."
   ]
  },
  {
   "cell_type": "code",
   "execution_count": null,
   "id": "7616cd51",
   "metadata": {
    "papermill": {
     "duration": 0.727611,
     "end_time": "2025-07-22T15:08:54.524879",
     "exception": false,
     "start_time": "2025-07-22T15:08:53.797268",
     "status": "completed"
    },
    "tags": []
   },
   "outputs": [],
   "source": [
    "# Sex with SVC with manual vs manual+automatic feature selection\n",
    "fig, axes = plt.subplots(1, 2, figsize=(6, 6), share_y=True)\n",
    "sns.boxplot(y='F1_sex_score', data=df_conn_manual_single_SVC_sex, color='orange', ax=axes[0])\n",
    "sns.stripplot(y='F1_sex_score', data=df_conn_manual_single_SVC_sex, color='black', jitter=True, alpha=0.7, size=8, ax=axes[0])\n",
    "axes[0].set_ylabel('F1 score [adim]', fontsize=14)\n",
    "axes[0].set_xlabel('Only manual', fontsize=14)\n",
    "axes[0].grid(axis='y', linestyle='--', alpha=0.7)\n",
    "axes[0].tick_params(axis='x', labelsize=12)\n",
    "axes[0].tick_params(axis='y', labelsize=12)\n",
    "\n",
    "sns.boxplot(y='F1_sex_score', data=df_conn_mixed_single_SVC_sex, color='orange', ax=axes[1])\n",
    "sns.stripplot(y='F1_sex_score', data=df_conn_mixed_single_SVC_sex, color='black', jitter=True, alpha=0.7, size=8, ax=axes[1])\n",
    "axes[1].set_ylabel('', fontsize=14)\n",
    "axes[1].set_xlabel('Manual+automatic', fontsize=14)\n",
    "axes[1].grid(axis='y', linestyle='--', alpha=0.7)\n",
    "axes[1].tick_params(axis='x', labelsize=12)\n",
    "axes[1].tick_params(axis='y', labelleft=False)\n",
    "\n",
    "axes[1].set_ylim(0.0, 0.8)\n",
    "fig.suptitle('Sex', fontsize=16)\n",
    "plt.tight_layout()\n",
    "plt.show()\n",
    "\n",
    "\n",
    "# ADHD with RF with manual vs manual+automatic feature selection\n",
    "fig, axes = plt.subplots(1, 2, figsize=(6, 6), share_y=True)\n",
    "\n",
    "sns.boxplot(y='F1_ADHD_score', data=df_soc_manual_single_RF_ADHD, ax=axes[0])\n",
    "sns.stripplot(y='F1_ADHD_score', data=df_soc_manual_single_RF_ADHD, color='black', jitter=True, alpha=0.7, size=8, ax=axes[0])\n",
    "axes[0].set_ylabel('F1 score [adim]', fontsize=14)\n",
    "axes[0].set_xlabel('Only manual', fontsize=14)\n",
    "axes[0].grid(axis='y', linestyle='--', alpha=0.7)\n",
    "axes[0].tick_params(axis='x', labelsize=12)\n",
    "axes[0].tick_params(axis='y', labelsize=12)\n",
    "\n",
    "sns.boxplot(y='F1_ADHD_score', data=df_soc_mixed_single_RF_ADHD, ax=axes[1])\n",
    "sns.stripplot(y='F1_ADHD_score', data=df_soc_mixed_single_RF_ADHD, color='black', jitter=True, alpha=0.7, size=8, ax=axes[1])\n",
    "axes[1].set_ylabel('', fontsize=14)\n",
    "axes[1].set_xlabel('Manual+automatic', fontsize=14)\n",
    "axes[1].grid(axis='y', linestyle='--', alpha=0.7)\n",
    "axes[1].tick_params(axis='x', labelsize=12)\n",
    "axes[1].tick_params(axis='y', labelleft=False)\n",
    "\n",
    "axes[1].set_ylim(0.7, 1.0)\n",
    "fig.suptitle('ADHD', fontsize=16)\n",
    "plt.tight_layout()\n",
    "plt.show()"
   ]
  }
 ],
 "metadata": {
  "kaggle": {
   "accelerator": "none",
   "dataSources": [
    {
     "databundleVersionId": 11498594,
     "sourceId": 90566,
     "sourceType": "competition"
    },
    {
     "sourceId": 248477641,
     "sourceType": "kernelVersion"
    },
    {
     "sourceId": 248477816,
     "sourceType": "kernelVersion"
    },
    {
     "sourceId": 248483681,
     "sourceType": "kernelVersion"
    },
    {
     "sourceId": 248485704,
     "sourceType": "kernelVersion"
    },
    {
     "sourceId": 248490492,
     "sourceType": "kernelVersion"
    },
    {
     "sourceId": 248505831,
     "sourceType": "kernelVersion"
    },
    {
     "sourceId": 248508478,
     "sourceType": "kernelVersion"
    },
    {
     "sourceId": 248508487,
     "sourceType": "kernelVersion"
    },
    {
     "sourceId": 248510545,
     "sourceType": "kernelVersion"
    },
    {
     "sourceId": 248512836,
     "sourceType": "kernelVersion"
    },
    {
     "sourceId": 248513273,
     "sourceType": "kernelVersion"
    },
    {
     "sourceId": 248515085,
     "sourceType": "kernelVersion"
    }
   ],
   "dockerImageVersionId": 31040,
   "isGpuEnabled": false,
   "isInternetEnabled": true,
   "language": "python",
   "sourceType": "notebook"
  },
  "kernelspec": {
   "display_name": ".venv (3.13.2)",
   "language": "python",
   "name": "python3"
  },
  "language_info": {
   "codemirror_mode": {
    "name": "ipython",
    "version": 3
   },
   "file_extension": ".py",
   "mimetype": "text/x-python",
   "name": "python",
   "nbconvert_exporter": "python",
   "pygments_lexer": "ipython3",
   "version": "3.13.2"
  },
  "papermill": {
   "default_parameters": {},
   "duration": 41.788549,
   "end_time": "2025-07-22T15:08:55.371613",
   "environment_variables": {},
   "exception": null,
   "input_path": "__notebook__.ipynb",
   "output_path": "__notebook__.ipynb",
   "parameters": {},
   "start_time": "2025-07-22T15:08:13.583064",
   "version": "2.6.0"
  }
 },
 "nbformat": 4,
 "nbformat_minor": 5
}
