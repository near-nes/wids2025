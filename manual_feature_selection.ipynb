{
 "cells": [
  {
   "cell_type": "markdown",
   "id": "b3c62244",
   "metadata": {},
   "source": [
    "# Unified Model Training Notebook\n",
    "This notebook merges the training of Random Forest (RF), Support Vector Classifier (SVC), and XGBoost (XGB) models. All preprocessing steps are shared."
   ]
  },
  {
   "cell_type": "code",
   "execution_count": null,
   "id": "17a5b846",
   "metadata": {},
   "outputs": [],
   "source": [
    "# Import Required Libraries\n",
    "import numpy as np\n",
    "import pandas as pd\n",
    "from sklearn.metrics import accuracy_score, f1_score\n",
    "from sklearn.ensemble import RandomForestClassifier\n",
    "from sklearn.svm import SVC\n",
    "from xgboost import XGBClassifier"
   ]
  },
  {
   "cell_type": "markdown",
   "id": "ca912bc4",
   "metadata": {},
   "source": [
    "## Data Loading and Preprocessing"
   ]
  },
  {
   "cell_type": "code",
   "execution_count": null,
   "id": "f0a2c71e",
   "metadata": {},
   "outputs": [],
   "source": [
    "# Load training data\n",
    "cat_metadata = pd.read_excel('widsdatathon2025/TRAIN_NEW/TRAIN_CATEGORICAL_METADATA_new.xlsx')\n",
    "quant_metadata = pd.read_excel('widsdatathon2025/TRAIN_NEW/TRAIN_QUANTITATIVE_METADATA_new.xlsx')\n",
    "fmri_connectome = pd.read_csv('widsdatathon2025/TRAIN_NEW/TRAIN_FUNCTIONAL_CONNECTOME_MATRICES_new_36P_Pearson.csv')\n",
    "solutions = pd.read_excel('widsdatathon2025/TRAIN_NEW/TRAINING_SOLUTIONS.xlsx')\n",
    "\n",
    "# One hot encoding for categorical data\n",
    "for col in cat_metadata.select_dtypes(include='int').columns:\n",
    "    cat_metadata[col] = cat_metadata[col].astype('category')\n",
    "columns_to_encode = cat_metadata.columns[1:].tolist()\n",
    "cat_encoded = pd.get_dummies(cat_metadata[columns_to_encode], drop_first=True)\n",
    "cat_encoded = cat_encoded.applymap(lambda x: 1 if x is True else (0 if x is False else x))\n",
    "cat_final = pd.concat([cat_metadata.drop(columns=columns_to_encode), cat_encoded], axis=1)\n",
    "\n",
    "# Merge categorical, quantitative, and solution data\n",
    "sociodemograph = pd.merge(cat_final, quant_metadata, on='participant_id')\n",
    "sociodemograph = pd.merge(sociodemograph, solutions, on='participant_id')\n",
    "connectome = pd.merge(fmri_connectome, solutions, on='participant_id')"
   ]
  },
  {
   "cell_type": "code",
   "execution_count": null,
   "id": "21a85f71",
   "metadata": {},
   "outputs": [],
   "source": [
    "# Fill missing values in categorical columns with mode\n",
    "cat_cols = [\n",
    "    'PreInt_Demos_Fam_Child_Ethnicity', 'PreInt_Demos_Fam_Child_Race',\n",
    "    'MRI_Track_Scan_Location', 'Barratt_Barratt_P1_Edu', 'Barratt_Barratt_P1_Occ',\n",
    "    'Barratt_Barratt_P2_Edu', 'Barratt_Barratt_P2_Occ'\n",
    " ]\n",
    "for col in cat_cols:\n",
    "    if col in sociodemograph.columns:\n",
    "        sociodemograph[col] = sociodemograph[col].fillna(sociodemograph[col].mode()[0])\n",
    "# Fill missing values in quantitative columns with mean\n",
    "quant_cols = [\n",
    "    'EHQ_EHQ_Total', 'ColorVision_CV_Score', 'APQ_P_APQ_P_CP', 'APQ_P_APQ_P_ID',\n",
    "    'APQ_P_APQ_P_INV', 'APQ_P_APQ_P_OPD', 'APQ_P_APQ_P_PM', 'APQ_P_APQ_P_PP',\n",
    "    'SDQ_SDQ_Conduct_Problems', 'SDQ_SDQ_Difficulties_Total', 'SDQ_SDQ_Emotional_Problems',\n",
    "    'SDQ_SDQ_Externalizing', 'SDQ_SDQ_Generating_Impact', 'SDQ_SDQ_Hyperactivity',\n",
    "    'SDQ_SDQ_Internalizing', 'SDQ_SDQ_Peer_Problems', 'SDQ_SDQ_Prosocial',\n",
    "    'MRI_Track_Age_at_Scan'\n",
    " ]\n",
    "for col in quant_cols:\n",
    "    if col in sociodemograph.columns:\n",
    "        sociodemograph[col].fillna(sociodemograph[col].mean(), inplace=True)"
   ]
  },
  {
   "cell_type": "markdown",
   "id": "1432bfd7",
   "metadata": {},
   "source": [
    "## Feature Selection (Manual)"
   ]
  },
  {
   "cell_type": "code",
   "execution_count": null,
   "id": "cd6f4c20",
   "metadata": {},
   "outputs": [],
   "source": [
    "# Remove selected features from sociodemographic data\n",
    "features_to_remove = [\"Basic_Demos_Study_Site_2\", \"Basic_Demos_Study_Site_3\", \"Basic_Demos_Study_Site_4\", \"MRI_Track_Scan_Location\"]\n",
    "sociodemograph_manual = sociodemograph.drop(columns=features_to_remove, errors='ignore')"
   ]
  },
  {
   "cell_type": "code",
   "execution_count": null,
   "id": "7bdfa26f",
   "metadata": {},
   "outputs": [],
   "source": [
    "# Manual feature selection for connectivity data\n",
    "manual_conn_indices = [\n",
    "    '76', '185', '75', '184', '80', '81', '82', '187', '188', '189', '77', '78', '79', '186', '191',\n",
    "    '88', '89', '90', '91', '192', '87', '83', '84', '85', '86', '190', '92', '93', '94', '95', '193',\n",
    "    '96', '194', '98', '196', '97', '195', '61', '167', '58', '59', '60', '165', '166', '63', '64',\n",
    "    '65', '168', '169', '62', '66', '170', '57', '68', '173', '174', '175', '176', '180', '69', '70',\n",
    "    '71', '177', '178', '179', '67', '171', '172', '74', '183', '72', '73', '181', '182', '31', '132',\n",
    "    '32', '33', '34', '133', '134', '135', '136', '29', '30', '131', '39', '141', '35', '36', '37',\n",
    "    '38', '137', '138', '139', '140' ]\n",
    "conn_manual_cols = ['participant_id', 'Sex_F', 'ADHD_Outcome']\n",
    "conn_feature_cols = [col for col in connectome.columns if col not in ['participant_id', 'Sex_F', 'ADHD_Outcome']]\n",
    "for col in conn_feature_cols:\n",
    "    for idx in manual_conn_indices:\n",
    "        if idx in col:\n",
    "            index = col.find(idx)\n",
    "            before = col[:index]\n",
    "            after = col[index + len(idx):]\n",
    "            if (not before or not before[-1].isdigit()) and (not after or not after[0].isdigit()):\n",
    "                conn_manual_cols.append(col)\n",
    "                break\n",
    "conn_manual_cols = list(set(conn_manual_cols))\n",
    "conn_manual_single = connectome[conn_manual_cols]"
   ]
  },
  {
   "cell_type": "markdown",
   "id": "b8729ef8",
   "metadata": {},
   "source": [
    "## Model Training Functions"
   ]
  },
  {
   "cell_type": "code",
   "execution_count": null,
   "id": "6ff321f4",
   "metadata": {},
   "outputs": [],
   "source": [
    "# Sociodemographic data: ADHD_Outcome\n",
    "X_soc = sociodemograph_manual.drop(columns=['participant_id', 'ADHD_Outcome'])\n",
    "y_soc = sociodemograph_manual['ADHD_Outcome'].astype(int)\n",
    "\n",
    "# Connectivity data: Sex_F\n",
    "X_conn = conn_manual_single.drop(columns=['participant_id', 'Sex_F'])\n",
    "y_conn = conn_manual_single['Sex_F']\n",
    "\n",
    "# Models\n",
    "models = {\n",
    "    'RF': RandomForestClassifier(class_weight='balanced', random_state=42),\n",
    "    'SVC': SVC(kernel='linear', class_weight='balanced', random_state=42),\n",
    "    'XGB': XGBClassifier(objective='binary:logistic', eval_metric='logloss', use_label_encoder=False, random_state=42)\n",
    "}\n",
    "\n",
    "results = {}\n",
    "for name, model in models.items():\n",
    "    print(f'\\n=== {name} on sociodemographic data (ADHD_Outcome) ===')\n",
    "    acc, f1 = cross_val_model(model, X_soc, y_soc)\n",
    "    print(f'F1-score mean: {np.mean(f1):.4f}, std: {np.std(f1):.4f}')\n",
    "    results[f'sociodemograph_manual_single_{name}_adhd'] = f1\n",
    "    print(f'\\n=== {name} on connectivity data (Sex_F) ===')\n",
    "    acc, f1 = cross_val_model(model, X_conn, y_conn)\n",
    "    print(f'F1-score mean: {np.mean(f1):.4f}, std: {np.std(f1):.4f}')\n",
    "    results[f'conn_manual_single_{name}_sex'] = f1"
   ]
  },
  {
   "cell_type": "markdown",
   "id": "fb397cd2",
   "metadata": {},
   "source": [
    "## Train and Evaluate All Models"
   ]
  },
  {
   "cell_type": "code",
   "execution_count": null,
   "id": "2226a31b",
   "metadata": {},
   "outputs": [],
   "source": [
    "# Demographic data: ADHD_Outcome\n",
    "X_demo = train_final_demo_selected.drop(columns=['participant_id', 'ADHD_Outcome'])\n",
    "y_demo = train_final_demo_selected['ADHD_Outcome'].astype(int)\n",
    "\n",
    "# Connectivity data: Sex_F\n",
    "X_conn = train_final_connett_selected.drop(columns=['participant_id', 'Sex_F'])\n",
    "y_conn = train_final_connett_selected['Sex_F']\n",
    "\n",
    "# Models\n",
    "models = {\n",
    "    'RandomForest': RandomForestClassifier(class_weight='balanced', random_state=42),\n",
    "    'SVC': SVC(kernel='linear', class_weight='balanced', random_state=42),\n",
    "    'XGBoost': XGBClassifier(objective='binary:logistic', eval_metric='logloss', use_label_encoder=False, random_state=42)\n",
    "}\n",
    "\n",
    "results = {}\n",
    "for name, model in models.items():\n",
    "    print(f'\n",
    "=== {name} on Demographic Data (ADHD_Outcome) ===')\n",
    "    acc, f1 = cross_val_model(model, X_demo, y_demo)\n",
    "    print(f'F1-score mean: {np.mean(f1):.4f}, std: {np.std(f1):.4f}')\n",
    "    results[f'{name}_ADHD'] = f1\n",
    "    print(f'\n",
    "=== {name} on Connectivity Data (Sex_F) ===')\n",
    "    acc, f1 = cross_val_model(model, X_conn, y_conn)\n",
    "    print(f'F1-score mean: {np.mean(f1):.4f}, std: {np.std(f1):.4f}')\n",
    "    results[f'{name}_Sex'] = f1"
   ]
  },
  {
   "cell_type": "markdown",
   "id": "e4c2590f",
   "metadata": {},
   "source": [
    "## Save Results"
   ]
  },
  {
   "cell_type": "code",
   "execution_count": null,
   "id": "053b5cbc",
   "metadata": {},
   "outputs": [],
   "source": [
    "# Save F1-score results for each model, using the naming convention of the figures notebook\n",
    "import os\n",
    "os.makedirs('results_paper', exist_ok=True)\n",
    "for key, f1_list in results.items():\n",
    "    if 'conn_manual_single' in key and '_SVC_' in key:\n",
    "        colname = 'F1_sex_score'\n",
    "    elif 'conn_manual_single' in key and '_RF_' in key:\n",
    "        colname = 'F1_sex_score'\n",
    "    elif 'conn_manual_single' in key and '_XGB_' in key:\n",
    "        colname = 'F1_sex_score'\n",
    "    elif 'sociodemograph_manual_single' in key and '_SVC_' in key:\n",
    "        colname = 'F1_adhd_score'\n",
    "    elif 'sociodemograph_manual_single' in key and '_RF_' in key:\n",
    "        colname = 'F1_adhd_score'\n",
    "    elif 'sociodemograph_manual_single' in key and '_XGB_' in key:\n",
    "        colname = 'F1_adhd_score'\n",
    "    else:\n",
    "        colname = 'F1_score'\n",
    "    df = pd.DataFrame({colname: f1_list})\n",
    "    df.to_csv(f'results_paper/{key}.csv', index=False)\n",
    "    print(f'Saved: results_paper/{key}.csv')"
   ]
  }
 ],
 "metadata": {
  "language_info": {
   "name": "python"
  }
 },
 "nbformat": 4,
 "nbformat_minor": 5
}
